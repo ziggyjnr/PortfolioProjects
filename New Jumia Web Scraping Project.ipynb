{
 "cells": [
  {
   "cell_type": "markdown",
   "id": "03d59106",
   "metadata": {},
   "source": [
    "# Jumia Web Scraping Project"
   ]
  },
  {
   "cell_type": "code",
   "execution_count": 45,
   "id": "4ede6779",
   "metadata": {},
   "outputs": [],
   "source": [
    "#import the necessary librarie\n",
    "\n",
    "from bs4 import BeautifulSoup\n",
    "import requests\n",
    "import pandas as pd\n",
    "\n"
   ]
  },
  {
   "cell_type": "code",
   "execution_count": 61,
   "id": "7b4317af",
   "metadata": {},
   "outputs": [],
   "source": [
    "#we are going to set the base URL of the main page because we'll need that when we construct our URLs for each of the individual products.\n",
    "#Also, we will send a user-agent on every HTTP request, because if you make GET request using requests then by default the user-agent is Python which might get blocked.\n",
    "\n",
    "URL = 'https://www.jumia.com.ng'\n",
    "\n",
    "headers = {\"User-Agent\": \"Mozilla/5.0 (Windows NT 10.0; Win64; x64) AppleWebKit/537.36 (KHTML, like Gecko) Chrome/117.0.0.0 Safari/537.36\", \"Accept\":\"text/html,application/xhtml+xml,application/xml;q=0.9,*/*;q=0.8\", \"DNT\":\"1\",\"Connection\":\"close\", \"Upgrade-Insecure-Requests\":\"1\"}\n",
    "\n",
    "for x in range(1,51):\n",
    "    page = requests.get('https://www.jumia.com.ng/catalog/?q=hp+laptops'.format(x), headers=headers).text\n",
    "    soup1 = BeautifulSoup(page, 'html.parser')\n",
    "    soup2 = BeautifulSoup(soup1.prettify(), 'html.parser')\n",
    "    product_list = soup2.find_all('a', class_='core')\n",
    "\n",
    "\n"
   ]
  },
  {
   "cell_type": "code",
   "execution_count": 62,
   "id": "0e04b6d1",
   "metadata": {},
   "outputs": [],
   "source": [
    "#We will write a script to scrape all those links from the product_list.\n",
    "\n",
    "product_links = []\n",
    "for link in product_list:\n",
    "    if link['href'] not in product_links:\n",
    "        product_links.append('https://www.jumia.com.ng/' + link['href'])\n",
    "        "
   ]
  },
  {
   "cell_type": "code",
   "execution_count": 63,
   "id": "00ae6727",
   "metadata": {},
   "outputs": [],
   "source": [
    "#Now we can loop through each of these links to extract the product information\n",
    "\n",
    "data = []\n",
    "for product_url in product_links:\n",
    "    f = requests.get(product_url, headers=headers).text\n",
    "    hun = BeautifulSoup(f, 'html.parser')\n",
    "    \n",
    "    try:\n",
    "        product_name = hun.find('h1', class_='-fs20 -pts -pbxs').text.replace('\\n',\"\")\n",
    "    except:\n",
    "        product_name = None\n",
    "    \n",
    "    try:\n",
    "        price = hun.find('span', class_='-b -ltr -tal -fs24 -prxs').text.replace('\\n',\"\")\n",
    "    except:\n",
    "        price = None\n",
    "    \n",
    "    try:\n",
    "        Specs = hun.find('div', class_='markup -pam').text.replace('\\n',\"\")\n",
    "    except:\n",
    "        Specs = None\n",
    "    \n",
    "    try:\n",
    "        Ratings = hun.find('div', class_='-fs29 -yl5 -pvxs').text.replace('\\n',\"\")\n",
    "    except:\n",
    "        Ratings = None\n",
    "    \n",
    "    laptops = {'Product_Name':product_name, 'price':price, 'Specs':Specs, 'Ratings':Ratings, 'Link':product_url, 'Date':today}\n",
    "    \n",
    "    data.append(laptops)\n",
    "    \n",
    "    \n",
    "    \n",
    "    \n",
    "    #product_page = requests.get(product_url)\n",
    "    #product_soup = BeautifulSoup(product_page.content, 'html.parser')\n",
    "    #product_name = product_soup.find('h1', class_='-fs20 -pts -pbxs').text.strip()\n",
    "    #price = product_soup.find('span', class_='-b -ltr -tal -fs24 -prxs').text\n",
    "    #Specs = product_soup.find('div', class_='markup -pam').text\n",
    "    "
   ]
  },
  {
   "cell_type": "code",
   "execution_count": 64,
   "id": "7c369873",
   "metadata": {},
   "outputs": [],
   "source": [
    "#store the extracted information in a DataFrame\n",
    "\n",
    "df = pd.DataFrame(data)\n",
    "\n",
    "\n",
    "#product_name = product_name.strip()\n",
    "#price = price.strip()\n",
    "#Specs = Specs.strip()\n",
    "\n",
    "\n",
    "#print(product_name)"
   ]
  },
  {
   "cell_type": "code",
   "execution_count": 66,
   "id": "3db1c147",
   "metadata": {},
   "outputs": [],
   "source": [
    "#export the DataFrame to csv\n",
    "\n",
    "df.to_csv(r'C:\\Users\\Dozie KHMO\\OneDrive\\Documents\\Personal Documents\\Python Project\\Webscraping_Jumia3.csv', index = False)"
   ]
  },
  {
   "cell_type": "code",
   "execution_count": null,
   "id": "b1762d2d",
   "metadata": {},
   "outputs": [],
   "source": []
  }
 ],
 "metadata": {
  "kernelspec": {
   "display_name": "Python 3 (ipykernel)",
   "language": "python",
   "name": "python3"
  },
  "language_info": {
   "codemirror_mode": {
    "name": "ipython",
    "version": 3
   },
   "file_extension": ".py",
   "mimetype": "text/x-python",
   "name": "python",
   "nbconvert_exporter": "python",
   "pygments_lexer": "ipython3",
   "version": "3.9.12"
  }
 },
 "nbformat": 4,
 "nbformat_minor": 5
}
